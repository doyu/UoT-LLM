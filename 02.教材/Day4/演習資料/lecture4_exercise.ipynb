{
  "cells": [
    {
      "cell_type": "markdown",
      "metadata": {
        "id": "0QgZA340w-Ow"
      },
      "source": [
        "# 2023年 大規模言語モデル サマースクール 第4回演習\n",
        "## 演習の目的\n",
        "講義では「スケールした言語モデルを作成する技術を学ぶ」という目的のもと以下の目標を設定して講義を行いました。\n",
        "\n",
        "\n",
        "*   モデルをスケールする理由について説明できる。\n",
        "*   モデルをスケールして事前学習する上での課題について説明できる。\n",
        "*   モデルをスケールして事前学習する方法について説明できる。\n",
        "*   事前学習の一連の流れをコードで実装できる。\n",
        "\n",
        "\n",
        "本演習では、これまでの講義の総括として、データを前処理し、モデルに学習させるまでの一通りの流れについておさらいします。\n",
        "\n",
        "また、今後発表予定の課題にあたり、シングルGPUでの訓練における、メモリ使用量を抑えるいくつかの手段についても記載します。\n"
      ]
    },
    {
      "cell_type": "markdown",
      "metadata": {
        "id": "HqNK0xmubpC_"
      },
      "source": [
        "## データの前処理の実施\n"
      ]
    },
    {
      "cell_type": "markdown",
      "metadata": {
        "id": "cLbbrkSLcmym"
      },
      "source": [
        "### ライブラリのインストール\n",
        "必要なライブラリのインストールを行います"
      ]
    },
    {
      "cell_type": "code",
      "execution_count": null,
      "metadata": {
        "colab": {
          "base_uri": "https://localhost:8080/"
        },
        "id": "TXGoCpFW_N_1",
        "outputId": "78e4ef37-e880-4aa5-b949-89f166baa950"
      },
      "outputs": [],
      "source": [
        "!pip install transformers datasets mecab-python3 unidic-lite sentencepiece accelerate pynvml deepspeed"
      ]
    },
    {
      "cell_type": "markdown",
      "metadata": {
        "id": "VqhI0uIpyN-c"
      },
      "source": [
        "### 必要なライブラリのimport\n",
        "\n",
        "\n",
        "*   re ... 正規表現による処理を扱うライブラリ\n",
        "\n",
        "\n",
        "*   MeCab ... 日本語の形態素解析を行うためのライブラリ\n",
        "*   torch ... 深層学習用ライブラリ\n",
        "*   datasets ... データセットのダウンロードするためのライブラリ\n",
        "*   pynvml ... GPUモニタリングを行うためのライブラリ\n",
        "*   transformers ... 公開されている深層学習モデルを扱うためのライブラリ"
      ]
    },
    {
      "cell_type": "code",
      "execution_count": null,
      "metadata": {
        "colab": {
          "base_uri": "https://localhost:8080/"
        },
        "id": "ssphH-CS9uO_",
        "outputId": "4933c3fb-1caf-4491-e876-7f486ec0f466"
      },
      "outputs": [],
      "source": [
        "import re\n",
        "from typing import Dict\n",
        "\n",
        "import MeCab\n",
        "import torch\n",
        "from datasets import load_dataset\n",
        "from pynvml import *\n",
        "from transformers import (AutoModelForCausalLM,\n",
        "                          DataCollatorForLanguageModeling, T5Tokenizer,\n",
        "                          TextDataset, Trainer, TrainingArguments)"
      ]
    },
    {
      "cell_type": "markdown",
      "metadata": {
        "id": "t-6uy27OyTXC"
      },
      "source": [
        "### 処理を行うデータセットの取得\n",
        "今回はmC4と呼ばれるデータセットのうち、日本語とされるデータの一部のサブセットを利用します。\n",
        "\n",
        "(注：jsonファイルの作成の初回実行には15分ほどかかる場合があります。)"
      ]
    },
    {
      "cell_type": "code",
      "execution_count": null,
      "metadata": {
        "id": "4xl9KY5wE5ut"
      },
      "outputs": [],
      "source": [
        "# 今回の演習で扱うjsonファイルは以下の手順で作成した\n",
        "# c4_subset = load_dataset(\"allenai/c4\", data_files=\"multilingual/c4-ja.tfrecord-00002-of-01024.json.gz\")\n",
        "# c4_subset1000 = c4_subset['train'].select(list(range(1000)))\n",
        "# c4_subset1000.to_json('mc4_subset.json', force_ascii=False)"
      ]
    },
    {
      "cell_type": "code",
      "execution_count": null,
      "metadata": {
        "id": "a3pUvujqv2Np"
      },
      "outputs": [],
      "source": [
        "mc4_subset = load_dataset('json', data_files={'train': 'mc4_subset.json'})"
      ]
    },
    {
      "cell_type": "markdown",
      "metadata": {
        "id": "hHoZwN5dy18R"
      },
      "source": [
        "### データの前処理\n",
        "学習するデータセットの前処理として、日本語として不完全な文を取り除く処理を行います。\n",
        "\n",
        "助詞と動詞、あるいは助詞と動名詞の両方が揃っていない行を取り除く関数`remove_imcomplete_sentence()`と途中で省略されている行を取り除く関数`remove_omitted_text()`を用意してあります。\n",
        "\n",
        "余力があれば、データセットのクレンジングを追加で行う関数を自由に考えて、前後での変化を確認しながら、一連の処理に加えてみてください。"
      ]
    },
    {
      "cell_type": "code",
      "execution_count": null,
      "metadata": {
        "id": "hd4tMvTvPbfM"
      },
      "outputs": [],
      "source": [
        "tagger = MeCab.Tagger(\"-oChasen\")\n",
        "\n",
        "def cleanse(example: Dict[str, str]):\n",
        "  example['text'] = remove_imcomplete_sentence(example['text'])\n",
        "  example['text'] = remove_omitted_text(example['text'])\n",
        "  ## WRITE ME\n",
        "  return example\n",
        "\n",
        "def remove_imcomplete_sentence(text: str):\n",
        "  cleansed_text = ''\n",
        "  for line in text.splitlines():\n",
        "    parsed_line = tagger.parse(line)\n",
        "    is_particle = False\n",
        "    is_verb = False\n",
        "    for word in parsed_line.splitlines()[:-1]:\n",
        "      items = re.split('[\\t,]',word)\n",
        "      if items[4].startswith('助詞'):\n",
        "        is_particle = True\n",
        "      if items[4].startswith('動詞') or items[4].startswith('助動詞'):\n",
        "        is_verb = True\n",
        "      if is_particle and is_verb:\n",
        "        cleansed_text += line +'\\n'\n",
        "        break\n",
        "  return cleansed_text\n",
        "\n",
        "def remove_omitted_text(text: str):\n",
        "  cleansed_text = ''\n",
        "  for line in text.splitlines():\n",
        "    if line.endswith('...'):\n",
        "      match = re.match(r'.+[。?!？！]', line)\n",
        "      if match:\n",
        "        cleansed_text += match.group() + '\\n'\n",
        "    else:\n",
        "      cleansed_text += line + '\\n'\n",
        "  return cleansed_text\n",
        "\n"
      ]
    },
    {
      "cell_type": "code",
      "execution_count": null,
      "metadata": {
        "colab": {
          "base_uri": "https://localhost:8080/",
          "height": 105,
          "referenced_widgets": [
            "e154150590f44851bfab2338b7351146",
            "704799d501cc4de2add6f3d153fed89e",
            "bf02adbe19e144e18408bd5a28f270c1",
            "d71884c23ffc4b449630cbb5f2f7d8d1",
            "df084c4496304055b180f120e7719e4a",
            "138be45477384e5f8e723c99abf768f5",
            "532555d76e5b496caf88c60d56132a2f",
            "f75c3ed2670b454a962d18603e8b7263",
            "f528ee139ae64b10abf1ea81415bfd95",
            "005c9c711d634e6b92dea6c1a341611d",
            "e5f81e185fd8459f884c1ad251549271"
          ]
        },
        "id": "UXFLjcL1uJJe",
        "outputId": "76395ab8-ebe1-45f6-b994-72d76f623786"
      },
      "outputs": [],
      "source": [
        "mc4_cleansed_subset = mc4_subset.map(cleanse)"
      ]
    },
    {
      "cell_type": "markdown",
      "metadata": {
        "id": "IhL5SKum0WeX"
      },
      "source": [
        "## 前処理したデータセットでの学習の実行"
      ]
    },
    {
      "cell_type": "markdown",
      "metadata": {
        "id": "c2DcP-xZinNh"
      },
      "source": [
        "データをtxtファイルに起こします。"
      ]
    },
    {
      "cell_type": "code",
      "execution_count": null,
      "metadata": {
        "id": "C8Qq0iMZX2A-"
      },
      "outputs": [],
      "source": [
        "texts = []\n",
        "for datum in mc4_cleansed_subset['train']:\n",
        "  texts.append(datum['text'])\n",
        "\n",
        "train_data_path = \"train_1000.txt\"\n",
        "with open(train_data_path,\"w\") as f:\n",
        "    f.writelines(texts)"
      ]
    },
    {
      "cell_type": "markdown",
      "metadata": {
        "id": "aHQBnncni5I-"
      },
      "source": [
        "### トークナイザとモデルの読み込み\n",
        "\n",
        "今回はrinna社が公開している[japanese-gpt2-small](https://huggingface.co/rinna/japanese-gpt2-small)で学習を実施します"
      ]
    },
    {
      "cell_type": "code",
      "execution_count": null,
      "metadata": {
        "colab": {
          "base_uri": "https://localhost:8080/"
        },
        "id": "ED3M_lhnwfqt",
        "outputId": "c6c44b93-2400-4bb5-c9c0-c5a72e6ca931"
      },
      "outputs": [],
      "source": [
        "tokenizer = T5Tokenizer.from_pretrained(\"rinna/japanese-gpt2-small\")\n",
        "model = AutoModelForCausalLM.from_pretrained(\"rinna/japanese-gpt2-small\")\n",
        "if torch.cuda.is_available():\n",
        "  model.to(\"cuda\")"
      ]
    },
    {
      "cell_type": "markdown",
      "metadata": {
        "id": "31ZRNAgrkhCU"
      },
      "source": [
        "### 学習の実施"
      ]
    },
    {
      "cell_type": "markdown",
      "metadata": {
        "id": "sL8eVkp4k59Y"
      },
      "source": [
        "txtファイルを読み込み、学習に用いるデータセットに変換する。"
      ]
    },
    {
      "cell_type": "code",
      "execution_count": null,
      "metadata": {
        "colab": {
          "base_uri": "https://localhost:8080/"
        },
        "id": "YjWIL0bYYL9q",
        "outputId": "f9923d23-54d8-4f4d-a62e-a2b2b43b3f48"
      },
      "outputs": [],
      "source": [
        "train_dataset = TextDataset(\n",
        "    tokenizer=tokenizer,\n",
        "    file_path=train_data_path,\n",
        "    block_size=256 #文章の長さを揃える\n",
        ")"
      ]
    },
    {
      "cell_type": "markdown",
      "metadata": {
        "id": "yYosp_JOlatN"
      },
      "source": [
        "バッチ処理を行うためdata_collatorを定義する。"
      ]
    },
    {
      "cell_type": "code",
      "execution_count": null,
      "metadata": {
        "id": "qcpgjudPyFV2"
      },
      "outputs": [],
      "source": [
        "data_collator = DataCollatorForLanguageModeling(\n",
        "    tokenizer=tokenizer,\n",
        "    mlm=False\n",
        ")"
      ]
    },
    {
      "cell_type": "markdown",
      "metadata": {
        "id": "4p-fsE6Cl45R"
      },
      "source": [
        "学習の速度、GPUメモリの使用量をモニタするための関数を定義します。"
      ]
    },
    {
      "cell_type": "code",
      "execution_count": null,
      "metadata": {
        "id": "sF8sBeK9tgTX"
      },
      "outputs": [],
      "source": [
        "def print_gpu_utilization():\n",
        "    nvmlInit()\n",
        "    handle = nvmlDeviceGetHandleByIndex(0)\n",
        "    info = nvmlDeviceGetMemoryInfo(handle)\n",
        "    print(f\"GPU memory occupied: {info.used//1024**2} MB.\")\n",
        "\n",
        "\n",
        "def print_summary(result):\n",
        "    print(f\"Time: {result.metrics['train_runtime']:.2f}\")\n",
        "    print(f\"Samples/second: {result.metrics['train_samples_per_second']:.2f}\")\n",
        "    print_gpu_utilization()"
      ]
    },
    {
      "cell_type": "markdown",
      "metadata": {
        "id": "ycNWn0gZpFDh"
      },
      "source": [
        "学習を行うパラメータを設定し学習を行う。今回バッチサイズは16とした。"
      ]
    },
    {
      "cell_type": "code",
      "execution_count": null,
      "metadata": {
        "id": "PICr5AqEyIzs"
      },
      "outputs": [],
      "source": [
        "training_args = TrainingArguments(\n",
        "    output_dir='./outputs',\n",
        "    num_train_epochs=1,  # エポック数\n",
        "    per_device_train_batch_size=16,  # バッチサイズ\n",
        "    logging_steps=100,  # 途中経過を表示する間隔\n",
        "    save_steps=300 # 保存する間隔\n",
        ")"
      ]
    },
    {
      "cell_type": "code",
      "execution_count": null,
      "metadata": {
        "id": "b11fUPG50zeG"
      },
      "outputs": [],
      "source": [
        "trainer = Trainer(\n",
        "    model=model,\n",
        "    args=training_args,\n",
        "    data_collator=data_collator,\n",
        "    train_dataset=train_dataset\n",
        ")"
      ]
    },
    {
      "cell_type": "code",
      "execution_count": null,
      "metadata": {
        "colab": {
          "base_uri": "https://localhost:8080/",
          "height": 223
        },
        "id": "2mM9me2t1tBA",
        "outputId": "f6184dc1-1210-4320-8db0-30fdabf8fcd0"
      },
      "outputs": [],
      "source": [
        "result = trainer.train()\n",
        "print_summary(result)"
      ]
    },
    {
      "cell_type": "markdown",
      "metadata": {
        "id": "XusgMOQ9pQog"
      },
      "source": [
        "## GPUメモリ使用量を抑えるテクニック\n",
        "学習を行う場合にGPUメモリの制限に悩まされることは多いと思います。\n",
        "\n",
        "残りのセクションでは、GPUのメモリ使用量を抑える一般的なテクニックについて紹介します。"
      ]
    },
    {
      "cell_type": "markdown",
      "metadata": {
        "id": "LmqarItDp_YL"
      },
      "source": [
        "### 勾配累積(Gradient Accumulation)\n",
        "\n",
        "勾配累積はバッチサイズを小さくしながら、実質的に大きなバッチサイズで学習するのと同じ効果を得るための手法です。\n",
        "\n",
        "まず、通常のバッチサイズとして小さな値を設定します。\n",
        "その後、各バッチで計算される勾配を蓄積（累積）していきます。最初のバッチでは通常通り勾配を計算し、その後のバッチでは計算された勾配を以前の勾配と累積します。\n",
        "そして、この累積した勾配を用いてパラメータの更新を行います。\n",
        "\n",
        "このことにより、小さなバッチでの計算によりGPUメモリの使用量を抑えながら、パラメータの更新は大きなバッチでの計算を近似することができます。\n",
        "一方で、計算オーバーヘッドは増えるため、やや速度は遅くなります。\n",
        "\n",
        "Trainerの場合`gradient_accumulation_steps`という引数に設定することで利用することができます。"
      ]
    },
    {
      "cell_type": "code",
      "execution_count": null,
      "metadata": {
        "id": "_65J2FtSW0qe"
      },
      "outputs": [],
      "source": [
        "training_args = TrainingArguments(\n",
        "    output_dir='./outputs',\n",
        "    num_train_epochs=1,  # エポック数\n",
        "    per_device_train_batch_size=4,  # バッチサイズ\n",
        "    gradient_accumulation_steps=4,  # 勾配累積のサイズ\n",
        "    logging_steps=100,  # 途中経過を表示する間隔\n",
        "    save_steps=300 # 保存する間隔\n",
        ")"
      ]
    },
    {
      "cell_type": "code",
      "execution_count": null,
      "metadata": {
        "id": "4SSqIZUA01tX"
      },
      "outputs": [],
      "source": [
        "trainer = Trainer(\n",
        "    model=model,\n",
        "    args=training_args,\n",
        "    data_collator=data_collator,\n",
        "    train_dataset=train_dataset\n",
        ")"
      ]
    },
    {
      "cell_type": "code",
      "execution_count": null,
      "metadata": {
        "colab": {
          "base_uri": "https://localhost:8080/",
          "height": 223
        },
        "id": "qstE91uV05mT",
        "outputId": "629eb06d-74a0-409d-bb7d-1e5cea5abe7e"
      },
      "outputs": [],
      "source": [
        "result = trainer.train()\n",
        "print_summary(result)"
      ]
    },
    {
      "cell_type": "markdown",
      "metadata": {
        "id": "lIjq1LQcuBnz"
      },
      "source": [
        "### 勾配チェックポイント(Gradient Checkpoint)\n",
        "勾配チェックポイントは勾配に関しての情報の一部だけをチェックポイントとして保存し、残りの箇所を再計算することでメモリ使用量を抑える手法です。\n",
        "\n",
        "通常、学習時にバックワードパスで勾配を計算するために、フォワードパスのすべてのアクティベーションが保存されます。これは大きなメモリオーバーヘッドとなります。別の方法として、バックワードパス中に必要に応じて、フォワードパス中のすべてのアクティベーションを再計算することもできます。しかし、この場合、計算オーバーヘッドが大きくなり、学習が遅くなります。\n",
        "\n",
        "この間が、勾配チェックポイントです。勾配チェックポイントではモデルの一部の層の勾配情報を保存し、保存しなかった箇所の勾配のみ再計算を行います。\n",
        "一般的に、勾配チェックポイントにより、学習が約20％遅くなってしまうとされます。\n",
        "\n",
        "Trainerの場合`gradient_checkpointing`という引数に設定することで利用することができます。"
      ]
    },
    {
      "cell_type": "code",
      "execution_count": null,
      "metadata": {
        "id": "xmAndDNI4OqW"
      },
      "outputs": [],
      "source": [
        "training_args = TrainingArguments(\n",
        "    output_dir='./outputs',\n",
        "    num_train_epochs=1,  # エポック数\n",
        "    per_device_train_batch_size=4,  # バッチサイズ\n",
        "    gradient_accumulation_steps=4,  # 勾配累積のサイズ\n",
        "    gradient_checkpointing=True,  # 勾配チェックポイント\n",
        "    logging_steps=100,  # 途中経過を表示する間隔\n",
        "    save_steps=300 # 保存する間隔\n",
        ")"
      ]
    },
    {
      "cell_type": "code",
      "execution_count": null,
      "metadata": {
        "id": "DTPAS9y44VK1"
      },
      "outputs": [],
      "source": [
        "trainer = Trainer(\n",
        "    model=model,\n",
        "    args=training_args,\n",
        "    data_collator=data_collator,\n",
        "    train_dataset=train_dataset\n",
        ")"
      ]
    },
    {
      "cell_type": "code",
      "execution_count": null,
      "metadata": {
        "colab": {
          "base_uri": "https://localhost:8080/",
          "height": 241
        },
        "id": "XocmUNBB4esy",
        "outputId": "7c114595-d7a7-425f-81f2-3b9ed24291dc"
      },
      "outputs": [],
      "source": [
        "result = trainer.train()\n",
        "print_summary(result)"
      ]
    },
    {
      "cell_type": "markdown",
      "metadata": {
        "id": "IzF-6ZYGyeXg"
      },
      "source": [
        "### 量子化(fp16)\n",
        "量子化とは計算に用いる計算精度を削減することで、使用するメモリを削減させながらモデルの学習を高速化させる手法です。\n",
        "\n",
        "特に、fp16は半精度浮動小数点数の形式を指し、通常の浮動小数点数（fp32）よりも少ないビットで浮動小数点数を表現します。これにより、モデルの計算におけるメモリ使用量と演算のコストが削減され、モデルの学習速度が向上します。\n",
        "一方で、fp16を用いることで、オーバーフローが生じてしまい、学習にバグが生じることもあるので使用には注意が必要です。\n",
        "\n",
        "Trainerの場合`fp16`という引数に設定することで利用することができます。この場合、計算の一部は完全精度で、一部は半精度で実行される(混合精度トレーニングと呼ばれる)ため、メモリ使用量は大きくなることがあります。\n"
      ]
    },
    {
      "cell_type": "markdown",
      "metadata": {
        "id": "YIDIDmyGy5uh"
      },
      "source": [
        "![bfloat16-format.png](data:image/png;base64,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)\n",
        "\n",
        "(出典：Google Cloud https://cloud.google.com/tpu/docs/bfloat16)"
      ]
    },
    {
      "cell_type": "code",
      "execution_count": null,
      "metadata": {
        "id": "jNHP4Xc16XtQ"
      },
      "outputs": [],
      "source": [
        "training_args = TrainingArguments(\n",
        "    output_dir='./outputs',\n",
        "    num_train_epochs=1,  # エポック数\n",
        "    per_device_train_batch_size=4,  # バッチサイズ\n",
        "    gradient_accumulation_steps=4,  # 勾配累積のサイズ\n",
        "    gradient_checkpointing=True,  # 勾配チェックポイント\n",
        "    fp16=True,  # fp16\n",
        "    logging_steps=100,  # 途中経過を表示する間隔\n",
        "    save_steps=300 # 保存する間隔\n",
        ")"
      ]
    },
    {
      "cell_type": "code",
      "execution_count": null,
      "metadata": {
        "id": "wrgRU01P6hHW"
      },
      "outputs": [],
      "source": [
        "trainer = Trainer(\n",
        "    model=model,\n",
        "    args=training_args,\n",
        "    data_collator=data_collator,\n",
        "    train_dataset=train_dataset\n",
        ")"
      ]
    },
    {
      "cell_type": "code",
      "execution_count": null,
      "metadata": {
        "colab": {
          "base_uri": "https://localhost:8080/",
          "height": 223
        },
        "id": "vAOGbjSR6jrJ",
        "outputId": "915a12db-3722-459f-9dd1-ea0a6dcbb680"
      },
      "outputs": [],
      "source": [
        "result = trainer.train()\n",
        "print_summary(result)"
      ]
    },
    {
      "cell_type": "markdown",
      "metadata": {
        "id": "W3jRzMvq2akI"
      },
      "source": [
        "### オプティマイザ\n",
        "オプティマイザの選択により、メモリの使用量を削減できる場合もあリます。\n",
        "\n",
        "[Adafactor](https://arxiv.org/abs/1804.04235)はAdamと比較して、重み行列の各要素の移動平均を保持する代わりに、集約された情報（移動平均の行と列の合計）のみを保存するなどの工夫で、メモリの使用量を抑えることができるオプティマイザです。\n",
        "\n",
        "Trainerの場合`optim`という引数に`adafactor`を設定することで利用することができます。"
      ]
    },
    {
      "cell_type": "code",
      "execution_count": null,
      "metadata": {
        "id": "19DSomlC7xLv"
      },
      "outputs": [],
      "source": [
        "training_args = TrainingArguments(\n",
        "    output_dir='./outputs',\n",
        "    num_train_epochs=1,  # エポック数\n",
        "    per_device_train_batch_size=4,  # バッチサイズ\n",
        "    gradient_accumulation_steps=4,  # 勾配累積のサイズ\n",
        "    gradient_checkpointing=True,  # 勾配チェックポイント\n",
        "    fp16=True,  # fp16\n",
        "    optim='adafactor',  # オプティマイザの種類\n",
        "    logging_steps=100,  # 途中経過を表示する間隔\n",
        "    save_steps=300 # 保存する間隔\n",
        ")"
      ]
    },
    {
      "cell_type": "code",
      "execution_count": null,
      "metadata": {
        "id": "4OmbB-Oy73lV"
      },
      "outputs": [],
      "source": [
        "trainer = Trainer(\n",
        "    model=model,\n",
        "    args=training_args,\n",
        "    data_collator=data_collator,\n",
        "    train_dataset=train_dataset\n",
        ")"
      ]
    },
    {
      "cell_type": "code",
      "execution_count": null,
      "metadata": {
        "colab": {
          "base_uri": "https://localhost:8080/",
          "height": 223
        },
        "id": "xYvgSBnR75NL",
        "outputId": "23e9a19f-5131-4e16-cb10-8fff7c12e58c"
      },
      "outputs": [],
      "source": [
        "result = trainer.train()\n",
        "print_summary(result)"
      ]
    },
    {
      "cell_type": "markdown",
      "metadata": {
        "id": "PbhflXgW9vsa"
      },
      "source": [
        "### Deepspeed\n",
        "また、シングルGPUでは用途が限られるが、Deepspeedの利用法についても述べます。\n",
        "\n",
        "シングルGPUでDeepspeedを用いる場合は、CPUに余分なパラメータをオフロードして、大きなモデルを扱う用途が一般的です。\n",
        "\n",
        "Trainerの場合`deepspeed`という引数にconfigへのパスを設定することで利用することができます。"
      ]
    },
    {
      "cell_type": "code",
      "execution_count": null,
      "metadata": {
        "id": "Fij0lefpA4pf"
      },
      "outputs": [],
      "source": [
        "training_args = TrainingArguments(\n",
        "    output_dir='./outputs',\n",
        "    num_train_epochs=1,  # エポック数\n",
        "    per_device_train_batch_size=4,  # バッチサイズ\n",
        "    gradient_accumulation_steps=4,  # 勾配累積のサイズ\n",
        "    gradient_checkpointing=True,  #勾配チェックポイント\n",
        "    fp16=True,  #fp16\n",
        "    optim='adafactor',  # オプティマイザの種類\n",
        "    deepspeed='./ds_config.json',  # deepspeedのconfigへのpath\n",
        "    logging_steps=100,  # 途中経過を表示する間隔\n",
        ")"
      ]
    },
    {
      "cell_type": "code",
      "execution_count": null,
      "metadata": {
        "colab": {
          "base_uri": "https://localhost:8080/"
        },
        "id": "SY8pt4X8D0rT",
        "outputId": "bd81a0e9-8689-4f35-deeb-8614c87d7d96"
      },
      "outputs": [],
      "source": [
        "trainer = Trainer(\n",
        "    model=model,\n",
        "    args=training_args,\n",
        "    data_collator=data_collator,\n",
        "    train_dataset=train_dataset\n",
        ")"
      ]
    },
    {
      "cell_type": "code",
      "execution_count": null,
      "metadata": {
        "colab": {
          "base_uri": "https://localhost:8080/",
          "height": 223
        },
        "id": "8yRte3tCECkK",
        "outputId": "d73c6cb4-8a18-484b-bd87-e45b61cce6ff"
      },
      "outputs": [],
      "source": [
        "result = trainer.train()\n",
        "print_summary(result)"
      ]
    },
    {
      "cell_type": "markdown",
      "metadata": {},
      "source": [
        "## 参考\n",
        "- [The Technology Behind BLOOM Training](https://huggingface.co/blog/bloom-megatron-deepspeed)：大規模なモデル開発についてのブログ記事\n",
        "- [ABCI グランドチャレンジ参加報告](https://drive.google.com/file/d/18wMZFRphuwRwOfeDmVlnBxxVOKjt1PVw/view)：日本語での大規模なモデル開発についての記事\n",
        "- [Train With Mixed Precision](https://docs.nvidia.com/deeplearning/performance/mixed-precision-training/index.html)：混合精度トレーニングに関する解説\n",
        "- [Efficient Training on Multiple GPUs](https://huggingface.co/docs/transformers/perf_train_gpu_many)：マルチGPUでのモデルの並列技術を含めたより詳細な解説"
      ]
    }
  ],
  "metadata": {
    "accelerator": "GPU",
    "colab": {
      "gpuType": "T4",
      "provenance": []
    },
    "kernelspec": {
      "display_name": "Python 3",
      "name": "python3"
    },
    "language_info": {
      "name": "python"
    },
    "widgets": {
      "application/vnd.jupyter.widget-state+json": {
        "005c9c711d634e6b92dea6c1a341611d": {
          "model_module": "@jupyter-widgets/base",
          "model_module_version": "1.2.0",
          "model_name": "LayoutModel",
          "state": {
            "_model_module": "@jupyter-widgets/base",
            "_model_module_version": "1.2.0",
            "_model_name": "LayoutModel",
            "_view_count": null,
            "_view_module": "@jupyter-widgets/base",
            "_view_module_version": "1.2.0",
            "_view_name": "LayoutView",
            "align_content": null,
            "align_items": null,
            "align_self": null,
            "border": null,
            "bottom": null,
            "display": null,
            "flex": null,
            "flex_flow": null,
            "grid_area": null,
            "grid_auto_columns": null,
            "grid_auto_flow": null,
            "grid_auto_rows": null,
            "grid_column": null,
            "grid_gap": null,
            "grid_row": null,
            "grid_template_areas": null,
            "grid_template_columns": null,
            "grid_template_rows": null,
            "height": null,
            "justify_content": null,
            "justify_items": null,
            "left": null,
            "margin": null,
            "max_height": null,
            "max_width": null,
            "min_height": null,
            "min_width": null,
            "object_fit": null,
            "object_position": null,
            "order": null,
            "overflow": null,
            "overflow_x": null,
            "overflow_y": null,
            "padding": null,
            "right": null,
            "top": null,
            "visibility": null,
            "width": null
          }
        },
        "138be45477384e5f8e723c99abf768f5": {
          "model_module": "@jupyter-widgets/base",
          "model_module_version": "1.2.0",
          "model_name": "LayoutModel",
          "state": {
            "_model_module": "@jupyter-widgets/base",
            "_model_module_version": "1.2.0",
            "_model_name": "LayoutModel",
            "_view_count": null,
            "_view_module": "@jupyter-widgets/base",
            "_view_module_version": "1.2.0",
            "_view_name": "LayoutView",
            "align_content": null,
            "align_items": null,
            "align_self": null,
            "border": null,
            "bottom": null,
            "display": null,
            "flex": null,
            "flex_flow": null,
            "grid_area": null,
            "grid_auto_columns": null,
            "grid_auto_flow": null,
            "grid_auto_rows": null,
            "grid_column": null,
            "grid_gap": null,
            "grid_row": null,
            "grid_template_areas": null,
            "grid_template_columns": null,
            "grid_template_rows": null,
            "height": null,
            "justify_content": null,
            "justify_items": null,
            "left": null,
            "margin": null,
            "max_height": null,
            "max_width": null,
            "min_height": null,
            "min_width": null,
            "object_fit": null,
            "object_position": null,
            "order": null,
            "overflow": null,
            "overflow_x": null,
            "overflow_y": null,
            "padding": null,
            "right": null,
            "top": null,
            "visibility": null,
            "width": null
          }
        },
        "532555d76e5b496caf88c60d56132a2f": {
          "model_module": "@jupyter-widgets/controls",
          "model_module_version": "1.5.0",
          "model_name": "DescriptionStyleModel",
          "state": {
            "_model_module": "@jupyter-widgets/controls",
            "_model_module_version": "1.5.0",
            "_model_name": "DescriptionStyleModel",
            "_view_count": null,
            "_view_module": "@jupyter-widgets/base",
            "_view_module_version": "1.2.0",
            "_view_name": "StyleView",
            "description_width": ""
          }
        },
        "704799d501cc4de2add6f3d153fed89e": {
          "model_module": "@jupyter-widgets/controls",
          "model_module_version": "1.5.0",
          "model_name": "HTMLModel",
          "state": {
            "_dom_classes": [],
            "_model_module": "@jupyter-widgets/controls",
            "_model_module_version": "1.5.0",
            "_model_name": "HTMLModel",
            "_view_count": null,
            "_view_module": "@jupyter-widgets/controls",
            "_view_module_version": "1.5.0",
            "_view_name": "HTMLView",
            "description": "",
            "description_tooltip": null,
            "layout": "IPY_MODEL_138be45477384e5f8e723c99abf768f5",
            "placeholder": "​",
            "style": "IPY_MODEL_532555d76e5b496caf88c60d56132a2f",
            "value": "Map: 100%"
          }
        },
        "bf02adbe19e144e18408bd5a28f270c1": {
          "model_module": "@jupyter-widgets/controls",
          "model_module_version": "1.5.0",
          "model_name": "FloatProgressModel",
          "state": {
            "_dom_classes": [],
            "_model_module": "@jupyter-widgets/controls",
            "_model_module_version": "1.5.0",
            "_model_name": "FloatProgressModel",
            "_view_count": null,
            "_view_module": "@jupyter-widgets/controls",
            "_view_module_version": "1.5.0",
            "_view_name": "ProgressView",
            "bar_style": "success",
            "description": "",
            "description_tooltip": null,
            "layout": "IPY_MODEL_f75c3ed2670b454a962d18603e8b7263",
            "max": 1000,
            "min": 0,
            "orientation": "horizontal",
            "style": "IPY_MODEL_f528ee139ae64b10abf1ea81415bfd95",
            "value": 1000
          }
        },
        "d71884c23ffc4b449630cbb5f2f7d8d1": {
          "model_module": "@jupyter-widgets/controls",
          "model_module_version": "1.5.0",
          "model_name": "HTMLModel",
          "state": {
            "_dom_classes": [],
            "_model_module": "@jupyter-widgets/controls",
            "_model_module_version": "1.5.0",
            "_model_name": "HTMLModel",
            "_view_count": null,
            "_view_module": "@jupyter-widgets/controls",
            "_view_module_version": "1.5.0",
            "_view_name": "HTMLView",
            "description": "",
            "description_tooltip": null,
            "layout": "IPY_MODEL_005c9c711d634e6b92dea6c1a341611d",
            "placeholder": "​",
            "style": "IPY_MODEL_e5f81e185fd8459f884c1ad251549271",
            "value": " 1000/1000 [00:08&lt;00:00, 124.00 examples/s]"
          }
        },
        "df084c4496304055b180f120e7719e4a": {
          "model_module": "@jupyter-widgets/base",
          "model_module_version": "1.2.0",
          "model_name": "LayoutModel",
          "state": {
            "_model_module": "@jupyter-widgets/base",
            "_model_module_version": "1.2.0",
            "_model_name": "LayoutModel",
            "_view_count": null,
            "_view_module": "@jupyter-widgets/base",
            "_view_module_version": "1.2.0",
            "_view_name": "LayoutView",
            "align_content": null,
            "align_items": null,
            "align_self": null,
            "border": null,
            "bottom": null,
            "display": null,
            "flex": null,
            "flex_flow": null,
            "grid_area": null,
            "grid_auto_columns": null,
            "grid_auto_flow": null,
            "grid_auto_rows": null,
            "grid_column": null,
            "grid_gap": null,
            "grid_row": null,
            "grid_template_areas": null,
            "grid_template_columns": null,
            "grid_template_rows": null,
            "height": null,
            "justify_content": null,
            "justify_items": null,
            "left": null,
            "margin": null,
            "max_height": null,
            "max_width": null,
            "min_height": null,
            "min_width": null,
            "object_fit": null,
            "object_position": null,
            "order": null,
            "overflow": null,
            "overflow_x": null,
            "overflow_y": null,
            "padding": null,
            "right": null,
            "top": null,
            "visibility": null,
            "width": null
          }
        },
        "e154150590f44851bfab2338b7351146": {
          "model_module": "@jupyter-widgets/controls",
          "model_module_version": "1.5.0",
          "model_name": "HBoxModel",
          "state": {
            "_dom_classes": [],
            "_model_module": "@jupyter-widgets/controls",
            "_model_module_version": "1.5.0",
            "_model_name": "HBoxModel",
            "_view_count": null,
            "_view_module": "@jupyter-widgets/controls",
            "_view_module_version": "1.5.0",
            "_view_name": "HBoxView",
            "box_style": "",
            "children": [
              "IPY_MODEL_704799d501cc4de2add6f3d153fed89e",
              "IPY_MODEL_bf02adbe19e144e18408bd5a28f270c1",
              "IPY_MODEL_d71884c23ffc4b449630cbb5f2f7d8d1"
            ],
            "layout": "IPY_MODEL_df084c4496304055b180f120e7719e4a"
          }
        },
        "e5f81e185fd8459f884c1ad251549271": {
          "model_module": "@jupyter-widgets/controls",
          "model_module_version": "1.5.0",
          "model_name": "DescriptionStyleModel",
          "state": {
            "_model_module": "@jupyter-widgets/controls",
            "_model_module_version": "1.5.0",
            "_model_name": "DescriptionStyleModel",
            "_view_count": null,
            "_view_module": "@jupyter-widgets/base",
            "_view_module_version": "1.2.0",
            "_view_name": "StyleView",
            "description_width": ""
          }
        },
        "f528ee139ae64b10abf1ea81415bfd95": {
          "model_module": "@jupyter-widgets/controls",
          "model_module_version": "1.5.0",
          "model_name": "ProgressStyleModel",
          "state": {
            "_model_module": "@jupyter-widgets/controls",
            "_model_module_version": "1.5.0",
            "_model_name": "ProgressStyleModel",
            "_view_count": null,
            "_view_module": "@jupyter-widgets/base",
            "_view_module_version": "1.2.0",
            "_view_name": "StyleView",
            "bar_color": null,
            "description_width": ""
          }
        },
        "f75c3ed2670b454a962d18603e8b7263": {
          "model_module": "@jupyter-widgets/base",
          "model_module_version": "1.2.0",
          "model_name": "LayoutModel",
          "state": {
            "_model_module": "@jupyter-widgets/base",
            "_model_module_version": "1.2.0",
            "_model_name": "LayoutModel",
            "_view_count": null,
            "_view_module": "@jupyter-widgets/base",
            "_view_module_version": "1.2.0",
            "_view_name": "LayoutView",
            "align_content": null,
            "align_items": null,
            "align_self": null,
            "border": null,
            "bottom": null,
            "display": null,
            "flex": null,
            "flex_flow": null,
            "grid_area": null,
            "grid_auto_columns": null,
            "grid_auto_flow": null,
            "grid_auto_rows": null,
            "grid_column": null,
            "grid_gap": null,
            "grid_row": null,
            "grid_template_areas": null,
            "grid_template_columns": null,
            "grid_template_rows": null,
            "height": null,
            "justify_content": null,
            "justify_items": null,
            "left": null,
            "margin": null,
            "max_height": null,
            "max_width": null,
            "min_height": null,
            "min_width": null,
            "object_fit": null,
            "object_position": null,
            "order": null,
            "overflow": null,
            "overflow_x": null,
            "overflow_y": null,
            "padding": null,
            "right": null,
            "top": null,
            "visibility": null,
            "width": null
          }
        }
      }
    }
  },
  "nbformat": 4,
  "nbformat_minor": 0
}
