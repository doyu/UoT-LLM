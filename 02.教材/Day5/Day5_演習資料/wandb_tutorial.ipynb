{
  "nbformat": 4,
  "nbformat_minor": 0,
  "metadata": {
    "colab": {
      "provenance": []
    },
    "kernelspec": {
      "name": "python3",
      "display_name": "Python 3"
    },
    "language_info": {
      "name": "python"
    }
  },
  "cells": [
    {
      "cell_type": "markdown",
      "source": [
        "（補助資料）NotebookでのWandbの利用"
      ],
      "metadata": {
        "id": "r0RO_zYhZ06T"
      }
    },
    {
      "cell_type": "markdown",
      "source": [
        "1. wandbのインストール"
      ],
      "metadata": {
        "id": "H4HK4WOlZ8zA"
      }
    },
    {
      "cell_type": "code",
      "source": [
        "!pip install wandb"
      ],
      "metadata": {
        "id": "A83iKJi8Xuh1"
      },
      "execution_count": null,
      "outputs": []
    },
    {
      "cell_type": "markdown",
      "source": [
        "2. wandbへの登録\n",
        "\n",
        "https://wandb.ai/site へアクセスしSIGNUPを押して好きなIDで登録"
      ],
      "metadata": {
        "id": "U2OMbAlhZ_98"
      }
    },
    {
      "cell_type": "markdown",
      "source": [
        "3. wandbのapi keyの取得（ユーザによって異なります．api keyを配布しないでください．）\n",
        "\n",
        "https://wandb.ai/authorize にアクセスしてコピー．"
      ],
      "metadata": {
        "id": "m5pfmhkDaSNX"
      }
    },
    {
      "cell_type": "markdown",
      "source": [
        "4. api keyの利用"
      ],
      "metadata": {
        "id": "EW1sRCYtacqI"
      }
    },
    {
      "cell_type": "code",
      "execution_count": null,
      "metadata": {
        "id": "l7PeAGARXleR"
      },
      "outputs": [],
      "source": [
        "import wandb\n",
        "import os\n",
        "wandb.login(key='ここにコピーしたkeyを入力してください')"
      ]
    },
    {
      "cell_type": "code",
      "source": [],
      "metadata": {
        "id": "le4TEtjIbBda"
      },
      "execution_count": null,
      "outputs": []
    },
    {
      "cell_type": "markdown",
      "source": [
        "5. 実験開始（下記はランダムな値を記録しているだけのダミープログラム．https://docs.wandb.ai/ja/tutorials/experiments を参照．\n",
        "\n",
        "より具体的な使い方はhttps://docs.wandb.ai/ja/ などを参考にしてください"
      ],
      "metadata": {
        "id": "KMbFHYiqauOs"
      }
    },
    {
      "cell_type": "code",
      "source": [
        "import random\n",
        "\n",
        "# Launch 5 simulated experiments\n",
        "total_runs = 5\n",
        "for run in range(total_runs):\n",
        "  # 🐝 1️⃣ Start a new run to track this script\n",
        "  wandb.init(\n",
        "      # Set the project where this run will be logged\n",
        "      project=\"basic-intro\",\n",
        "      # We pass a run name (otherwise it’ll be randomly assigned, like sunshine-lollypop-10)\n",
        "      name=f\"experiment_{run}\",\n",
        "      # Track hyperparameters and run metadata\n",
        "      config={\n",
        "      \"learning_rate\": 0.02,\n",
        "      \"architecture\": \"CNN\",\n",
        "      \"dataset\": \"CIFAR-100\",\n",
        "      \"epochs\": 10,\n",
        "      })\n",
        "\n",
        "  # This simple block simulates a training loop logging metrics\n",
        "  epochs = 10\n",
        "  offset = random.random() / 5\n",
        "  for epoch in range(2, epochs):\n",
        "      acc = 1 - 2 ** -epoch - random.random() / epoch - offset\n",
        "      loss = 2 ** -epoch + random.random() / epoch + offset\n",
        "\n",
        "      # 🐝 2️⃣ Log metrics from your script to W&B\n",
        "      wandb.log({\"acc\": acc, \"loss\": loss})\n",
        "\n",
        "  # Mark the run as finished\n",
        "  wandb.finish()"
      ],
      "metadata": {
        "id": "H9dlmjA4XqUf"
      },
      "execution_count": null,
      "outputs": []
    },
    {
      "cell_type": "code",
      "source": [],
      "metadata": {
        "id": "Z1gVdXBMbMim"
      },
      "execution_count": null,
      "outputs": []
    },
    {
      "cell_type": "markdown",
      "source": [
        "6. 実験結果の確認\n",
        "\n",
        "https://wandb.ai/home で実行した実験結果を確認"
      ],
      "metadata": {
        "id": "quZhVwJ-bfVx"
      }
    }
  ]
}